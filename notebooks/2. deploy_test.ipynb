{
 "cells": [
  {
   "cell_type": "code",
   "execution_count": 2,
   "metadata": {},
   "outputs": [],
   "source": [
    "# ubicarse una carpeta atras\n",
    "\n",
    "import sys\n",
    "import pickle\n",
    "import pandas as pd\n",
    "import json\n",
    "from src.app import data_process\n",
    "import pandas as pd\n",
    "import joblib\n",
    "\n",
    "\n"
   ]
  },
  {
   "cell_type": "code",
   "execution_count": 3,
   "metadata": {},
   "outputs": [],
   "source": [
    "data_dict = {\n",
    "    \"Hour (Coded)\": 1,\n",
    "    \"Immobilized bus\": 0,\n",
    "    \"Broken Truck\": 0,\n",
    "    \"Vehicle excess\": 0,\n",
    "    \"Accident victim\": 0,\n",
    "    \"Running over\": 0,\n",
    "    \"Fire vehicles\": 0,\n",
    "    \"Occurrence involving freight\": 0,\n",
    "    \"Incident involving dangerous freight\": 0,\n",
    "    \"Lack of electricity\": 0,\n",
    "    \"Fire\": 0,\n",
    "    \"Point of flooding\": 0,\n",
    "    \"Manifestations\": 0,\n",
    "    \"Defect in the network of trolleybuses\": 0,\n",
    "    \"Tree on the road\": 0,\n",
    "    \"Semaphore off\": 0,\n",
    "    \"Intermittent Semaphore\": 0,\n",
    "    \"Slowness in traffic (%)\": 4.1\n",
    "}"
   ]
  },
  {
   "cell_type": "code",
   "execution_count": 4,
   "metadata": {},
   "outputs": [],
   "source": [
    "df = pd.DataFrame(data_dict, index=[0])\n",
    "df = data_process.preprocess_data(df)"
   ]
  },
  {
   "cell_type": "code",
   "execution_count": 5,
   "metadata": {},
   "outputs": [
    {
     "data": {
      "text/html": [
       "<div>\n",
       "<style scoped>\n",
       "    .dataframe tbody tr th:only-of-type {\n",
       "        vertical-align: middle;\n",
       "    }\n",
       "\n",
       "    .dataframe tbody tr th {\n",
       "        vertical-align: top;\n",
       "    }\n",
       "\n",
       "    .dataframe thead th {\n",
       "        text-align: right;\n",
       "    }\n",
       "</style>\n",
       "<table border=\"1\" class=\"dataframe\">\n",
       "  <thead>\n",
       "    <tr style=\"text-align: right;\">\n",
       "      <th></th>\n",
       "      <th>hour_coded</th>\n",
       "      <th>immobilized_bus</th>\n",
       "      <th>broken_truck</th>\n",
       "      <th>vehicle_excess</th>\n",
       "      <th>accident_victim</th>\n",
       "      <th>running_over</th>\n",
       "      <th>fire_vehicles</th>\n",
       "      <th>occurrence_involving_freight</th>\n",
       "      <th>incident_involving_dangerous_freight</th>\n",
       "      <th>lack_of_electricity</th>\n",
       "      <th>fire</th>\n",
       "      <th>point_of_flooding</th>\n",
       "      <th>manifestations</th>\n",
       "      <th>defect_in_the_network_of_trolleybuses</th>\n",
       "      <th>tree_on_the_road</th>\n",
       "      <th>semaphore_off</th>\n",
       "      <th>intermittent_semaphore</th>\n",
       "      <th>slowness_in_traffic</th>\n",
       "      <th>hour_decoded</th>\n",
       "    </tr>\n",
       "  </thead>\n",
       "  <tbody>\n",
       "    <tr>\n",
       "      <th>0</th>\n",
       "      <td>1</td>\n",
       "      <td>0</td>\n",
       "      <td>0</td>\n",
       "      <td>0</td>\n",
       "      <td>0</td>\n",
       "      <td>0</td>\n",
       "      <td>0</td>\n",
       "      <td>0</td>\n",
       "      <td>0</td>\n",
       "      <td>0</td>\n",
       "      <td>0</td>\n",
       "      <td>0</td>\n",
       "      <td>0</td>\n",
       "      <td>0</td>\n",
       "      <td>0</td>\n",
       "      <td>0</td>\n",
       "      <td>0</td>\n",
       "      <td>4.1</td>\n",
       "      <td>7</td>\n",
       "    </tr>\n",
       "  </tbody>\n",
       "</table>\n",
       "</div>"
      ],
      "text/plain": [
       "   hour_coded  immobilized_bus  broken_truck  vehicle_excess  accident_victim  \\\n",
       "0           1                0             0               0                0   \n",
       "\n",
       "   running_over  fire_vehicles  occurrence_involving_freight  \\\n",
       "0             0              0                             0   \n",
       "\n",
       "   incident_involving_dangerous_freight  lack_of_electricity  fire  \\\n",
       "0                                     0                    0     0   \n",
       "\n",
       "   point_of_flooding  manifestations  defect_in_the_network_of_trolleybuses  \\\n",
       "0                  0               0                                      0   \n",
       "\n",
       "   tree_on_the_road  semaphore_off  intermittent_semaphore  \\\n",
       "0                 0              0                       0   \n",
       "\n",
       "   slowness_in_traffic  hour_decoded  \n",
       "0                  4.1             7  "
      ]
     },
     "execution_count": 5,
     "metadata": {},
     "output_type": "execute_result"
    }
   ],
   "source": [
    "df"
   ]
  },
  {
   "cell_type": "code",
   "execution_count": 7,
   "metadata": {},
   "outputs": [],
   "source": [
    "from src.app import data_process"
   ]
  },
  {
   "cell_type": "code",
   "execution_count": 9,
   "metadata": {},
   "outputs": [
    {
     "ename": "FileNotFoundError",
     "evalue": "[Errno 2] No such file or directory: 'params.yaml'",
     "output_type": "error",
     "traceback": [
      "\u001b[1;31m---------------------------------------------------------------------------\u001b[0m",
      "\u001b[1;31mFileNotFoundError\u001b[0m                         Traceback (most recent call last)",
      "Cell \u001b[1;32mIn[9], line 2\u001b[0m\n\u001b[0;32m      1\u001b[0m df \u001b[38;5;241m=\u001b[39m data_process\u001b[38;5;241m.\u001b[39mpreprocess_data(df)\n\u001b[1;32m----> 2\u001b[0m data_processor \u001b[38;5;241m=\u001b[39m \u001b[43mdata_process\u001b[49m\u001b[38;5;241;43m.\u001b[39;49m\u001b[43mDataFrameProcessor\u001b[49m\u001b[43m(\u001b[49m\u001b[43mdf\u001b[49m\u001b[43m)\u001b[49m\n\u001b[0;32m      3\u001b[0m df \u001b[38;5;241m=\u001b[39m data_processor\u001b[38;5;241m.\u001b[39mfull_process()\n",
      "File \u001b[1;32m~\\OneDrive\\Escritorio\\Maestria\\13. MLOps\\Git 2\\urban-traffic-prediction-repo\\src\\app\\data_process.py:39\u001b[0m, in \u001b[0;36mDataFrameProcessor.__init__\u001b[1;34m(self, df)\u001b[0m\n\u001b[0;32m     36\u001b[0m \u001b[38;5;28;01mdef\u001b[39;00m \u001b[38;5;21m__init__\u001b[39m(\u001b[38;5;28mself\u001b[39m, df):\n\u001b[0;32m     38\u001b[0m     \u001b[38;5;28mself\u001b[39m\u001b[38;5;241m.\u001b[39mdf \u001b[38;5;241m=\u001b[39m df\n\u001b[1;32m---> 39\u001b[0m     \u001b[38;5;28mself\u001b[39m\u001b[38;5;241m.\u001b[39mconfig \u001b[38;5;241m=\u001b[39m yaml\u001b[38;5;241m.\u001b[39msafe_load(\u001b[38;5;28;43mopen\u001b[39;49m\u001b[43m(\u001b[49m\u001b[38;5;124;43m'\u001b[39;49m\u001b[38;5;124;43mparams.yaml\u001b[39;49m\u001b[38;5;124;43m'\u001b[39;49m\u001b[43m)\u001b[49m)\n",
      "\u001b[1;31mFileNotFoundError\u001b[0m: [Errno 2] No such file or directory: 'params.yaml'"
     ]
    }
   ],
   "source": [
    "df = data_process.preprocess_data(df)\n",
    "data_processor = data_process.DataFrameProcessor(df)\n",
    "df = data_processor.full_process()"
   ]
  }
 ],
 "metadata": {
  "kernelspec": {
   "display_name": "mlopsvenv",
   "language": "python",
   "name": "python3"
  },
  "language_info": {
   "codemirror_mode": {
    "name": "ipython",
    "version": 3
   },
   "file_extension": ".py",
   "mimetype": "text/x-python",
   "name": "python",
   "nbconvert_exporter": "python",
   "pygments_lexer": "ipython3",
   "version": "3.10.11"
  }
 },
 "nbformat": 4,
 "nbformat_minor": 2
}
