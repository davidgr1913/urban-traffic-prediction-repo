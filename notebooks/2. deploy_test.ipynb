{
 "cells": [
  {
   "cell_type": "code",
   "execution_count": 1,
   "metadata": {},
   "outputs": [],
   "source": [
    "# ubicarse una carpeta atras\n",
    "\n",
    "import sys\n",
    "import pickle\n",
    "import pandas as pd\n",
    "import json\n",
    "from src.app import data_process\n",
    "import pandas as pd\n",
    "import joblib\n",
    "\n",
    "\n"
   ]
  },
  {
   "cell_type": "code",
   "execution_count": 14,
   "metadata": {},
   "outputs": [],
   "source": [
    "data_dict = {\n",
    "     \"Hour (Coded)\": 1,\n",
    "    \"Immobilized bus\": 0,\n",
    "    \"Broken Truck\": 0,\n",
    "    \"Vehicle excess\": 0,\n",
    "    \"Accident victim\": 0,\n",
    "    \"Running over\": 0,\n",
    "    \"Fire vehicles\": 0,\n",
    "    \"Occurrence involving freight\": 0,\n",
    "    \"Incident involving dangerous freight\": 0,\n",
    "    \"Lack of electricity\": 0,\n",
    "    \"Fire\": 0,\n",
    "    \"Point of flooding\": 0,\n",
    "    \"Manifestations\": 0,\n",
    "    \"Defect in the network of trolleybuses\": 0,\n",
    "    \"Tree on the road\": 0,\n",
    "    \"Semaphore off\": 0,\n",
    "    \"Intermittent Semaphore\": 0,\n",
    "    \"day\":\"Monday\"\n",
    "}"
   ]
  },
  {
   "cell_type": "code",
   "execution_count": 15,
   "metadata": {},
   "outputs": [],
   "source": [
    "df = pd.DataFrame(data_dict, index=[0])\n",
    "df = data_process.preprocess_data(df)"
   ]
  },
  {
   "cell_type": "code",
   "execution_count": 16,
   "metadata": {},
   "outputs": [
    {
     "data": {
      "text/html": [
       "<div>\n",
       "<style scoped>\n",
       "    .dataframe tbody tr th:only-of-type {\n",
       "        vertical-align: middle;\n",
       "    }\n",
       "\n",
       "    .dataframe tbody tr th {\n",
       "        vertical-align: top;\n",
       "    }\n",
       "\n",
       "    .dataframe thead th {\n",
       "        text-align: right;\n",
       "    }\n",
       "</style>\n",
       "<table border=\"1\" class=\"dataframe\">\n",
       "  <thead>\n",
       "    <tr style=\"text-align: right;\">\n",
       "      <th></th>\n",
       "      <th>hour_coded</th>\n",
       "      <th>immobilized_bus</th>\n",
       "      <th>broken_truck</th>\n",
       "      <th>vehicle_excess</th>\n",
       "      <th>accident_victim</th>\n",
       "      <th>running_over</th>\n",
       "      <th>fire_vehicles</th>\n",
       "      <th>occurrence_involving_freight</th>\n",
       "      <th>incident_involving_dangerous_freight</th>\n",
       "      <th>lack_of_electricity</th>\n",
       "      <th>fire</th>\n",
       "      <th>point_of_flooding</th>\n",
       "      <th>manifestations</th>\n",
       "      <th>defect_in_the_network_of_trolleybuses</th>\n",
       "      <th>tree_on_the_road</th>\n",
       "      <th>semaphore_off</th>\n",
       "      <th>intermittent_semaphore</th>\n",
       "      <th>day</th>\n",
       "      <th>hour_decoded</th>\n",
       "    </tr>\n",
       "  </thead>\n",
       "  <tbody>\n",
       "    <tr>\n",
       "      <th>0</th>\n",
       "      <td>1</td>\n",
       "      <td>0</td>\n",
       "      <td>0</td>\n",
       "      <td>0</td>\n",
       "      <td>0</td>\n",
       "      <td>0</td>\n",
       "      <td>0</td>\n",
       "      <td>0</td>\n",
       "      <td>0</td>\n",
       "      <td>0</td>\n",
       "      <td>0</td>\n",
       "      <td>0</td>\n",
       "      <td>0</td>\n",
       "      <td>0</td>\n",
       "      <td>0</td>\n",
       "      <td>0</td>\n",
       "      <td>0</td>\n",
       "      <td>Monday</td>\n",
       "      <td>7</td>\n",
       "    </tr>\n",
       "  </tbody>\n",
       "</table>\n",
       "</div>"
      ],
      "text/plain": [
       "   hour_coded  immobilized_bus  broken_truck  vehicle_excess  accident_victim  \\\n",
       "0           1                0             0               0                0   \n",
       "\n",
       "   running_over  fire_vehicles  occurrence_involving_freight  \\\n",
       "0             0              0                             0   \n",
       "\n",
       "   incident_involving_dangerous_freight  lack_of_electricity  fire  \\\n",
       "0                                     0                    0     0   \n",
       "\n",
       "   point_of_flooding  manifestations  defect_in_the_network_of_trolleybuses  \\\n",
       "0                  0               0                                      0   \n",
       "\n",
       "   tree_on_the_road  semaphore_off  intermittent_semaphore     day  \\\n",
       "0                 0              0                       0  Monday   \n",
       "\n",
       "   hour_decoded  \n",
       "0             7  "
      ]
     },
     "execution_count": 16,
     "metadata": {},
     "output_type": "execute_result"
    }
   ],
   "source": [
    "df"
   ]
  },
  {
   "cell_type": "code",
   "execution_count": 5,
   "metadata": {},
   "outputs": [],
   "source": [
    "from src.app import data_process"
   ]
  },
  {
   "cell_type": "code",
   "execution_count": 17,
   "metadata": {},
   "outputs": [],
   "source": [
    "df = data_process.preprocess_data(df)\n",
    "data_processor = data_process.DataFrameProcessor(df)\n",
    "df = data_processor.full_process()"
   ]
  },
  {
   "cell_type": "code",
   "execution_count": 18,
   "metadata": {},
   "outputs": [
    {
     "data": {
      "text/html": [
       "<div>\n",
       "<style scoped>\n",
       "    .dataframe tbody tr th:only-of-type {\n",
       "        vertical-align: middle;\n",
       "    }\n",
       "\n",
       "    .dataframe tbody tr th {\n",
       "        vertical-align: top;\n",
       "    }\n",
       "\n",
       "    .dataframe thead th {\n",
       "        text-align: right;\n",
       "    }\n",
       "</style>\n",
       "<table border=\"1\" class=\"dataframe\">\n",
       "  <thead>\n",
       "    <tr style=\"text-align: right;\">\n",
       "      <th></th>\n",
       "      <th>hour_coded</th>\n",
       "      <th>immobilized_bus</th>\n",
       "      <th>broken_truck</th>\n",
       "      <th>vehicle_excess</th>\n",
       "      <th>accident_victim</th>\n",
       "      <th>running_over</th>\n",
       "      <th>fire_vehicles</th>\n",
       "      <th>occurrence_involving_freight</th>\n",
       "      <th>incident_involving_dangerous_freight</th>\n",
       "      <th>lack_of_electricity</th>\n",
       "      <th>fire</th>\n",
       "      <th>point_of_flooding</th>\n",
       "      <th>manifestations</th>\n",
       "      <th>defect_in_the_network_of_trolleybuses</th>\n",
       "      <th>tree_on_the_road</th>\n",
       "      <th>semaphore_off</th>\n",
       "      <th>intermittent_semaphore</th>\n",
       "      <th>day</th>\n",
       "      <th>hour_decoded</th>\n",
       "    </tr>\n",
       "  </thead>\n",
       "  <tbody>\n",
       "    <tr>\n",
       "      <th>0</th>\n",
       "      <td>1</td>\n",
       "      <td>0</td>\n",
       "      <td>0</td>\n",
       "      <td>0</td>\n",
       "      <td>0</td>\n",
       "      <td>0</td>\n",
       "      <td>0</td>\n",
       "      <td>0</td>\n",
       "      <td>0</td>\n",
       "      <td>0</td>\n",
       "      <td>0</td>\n",
       "      <td>0</td>\n",
       "      <td>0</td>\n",
       "      <td>0</td>\n",
       "      <td>0</td>\n",
       "      <td>0</td>\n",
       "      <td>0</td>\n",
       "      <td>1</td>\n",
       "      <td>7</td>\n",
       "    </tr>\n",
       "  </tbody>\n",
       "</table>\n",
       "</div>"
      ],
      "text/plain": [
       "   hour_coded  immobilized_bus  broken_truck  vehicle_excess  accident_victim  \\\n",
       "0           1                0             0               0                0   \n",
       "\n",
       "   running_over  fire_vehicles  occurrence_involving_freight  \\\n",
       "0             0              0                             0   \n",
       "\n",
       "   incident_involving_dangerous_freight  lack_of_electricity  fire  \\\n",
       "0                                     0                    0     0   \n",
       "\n",
       "   point_of_flooding  manifestations  defect_in_the_network_of_trolleybuses  \\\n",
       "0                  0               0                                      0   \n",
       "\n",
       "   tree_on_the_road  semaphore_off  intermittent_semaphore  day  hour_decoded  \n",
       "0                 0              0                       0    1             7  "
      ]
     },
     "execution_count": 18,
     "metadata": {},
     "output_type": "execute_result"
    }
   ],
   "source": [
    "df"
   ]
  },
  {
   "cell_type": "code",
   "execution_count": 10,
   "metadata": {},
   "outputs": [],
   "source": [
    "model = joblib.load(\"../models/best_model.pkl\")"
   ]
  },
  {
   "cell_type": "code",
   "execution_count": 19,
   "metadata": {},
   "outputs": [
    {
     "data": {
      "text/plain": [
       "array(['hour_coded', 'immobilized_bus', 'broken_truck', 'vehicle_excess',\n",
       "       'accident_victim', 'running_over', 'fire_vehicles',\n",
       "       'occurrence_involving_freight',\n",
       "       'incident_involving_dangerous_freight', 'lack_of_electricity',\n",
       "       'fire', 'point_of_flooding', 'manifestations',\n",
       "       'defect_in_the_network_of_trolleybuses', 'tree_on_the_road',\n",
       "       'semaphore_off', 'intermittent_semaphore', 'hour_decoded', 'day'],\n",
       "      dtype=object)"
      ]
     },
     "execution_count": 19,
     "metadata": {},
     "output_type": "execute_result"
    }
   ],
   "source": [
    "model.feature_names_in_"
   ]
  },
  {
   "cell_type": "code",
   "execution_count": 20,
   "metadata": {},
   "outputs": [
    {
     "data": {
      "text/plain": [
       "Index(['hour_coded', 'immobilized_bus', 'broken_truck', 'vehicle_excess',\n",
       "       'accident_victim', 'running_over', 'fire_vehicles',\n",
       "       'occurrence_involving_freight', 'incident_involving_dangerous_freight',\n",
       "       'lack_of_electricity', 'fire', 'point_of_flooding', 'manifestations',\n",
       "       'defect_in_the_network_of_trolleybuses', 'tree_on_the_road',\n",
       "       'semaphore_off', 'intermittent_semaphore', 'day', 'hour_decoded'],\n",
       "      dtype='object')"
      ]
     },
     "execution_count": 20,
     "metadata": {},
     "output_type": "execute_result"
    }
   ],
   "source": [
    "df.columns"
   ]
  },
  {
   "cell_type": "code",
   "execution_count": 21,
   "metadata": {},
   "outputs": [
    {
     "data": {
      "text/plain": [
       "array([ True,  True,  True,  True,  True,  True,  True,  True,  True,\n",
       "        True,  True,  True,  True,  True,  True,  True,  True, False,\n",
       "       False])"
      ]
     },
     "execution_count": 21,
     "metadata": {},
     "output_type": "execute_result"
    }
   ],
   "source": [
    "## comparar los nombres de las columnas del modelo con las columnas del dataframe\n",
    "\n",
    "model.feature_names_in_ == df.columns"
   ]
  },
  {
   "cell_type": "code",
   "execution_count": 23,
   "metadata": {},
   "outputs": [
    {
     "data": {
      "text/plain": [
       "array([5.31855], dtype=float32)"
      ]
     },
     "execution_count": 23,
     "metadata": {},
     "output_type": "execute_result"
    }
   ],
   "source": [
    "## ordenar las columnas del dataframe en el mismo orden que las columnas del modelo\n",
    "\n",
    "df = df[model.feature_names_in_]\n",
    "\n",
    "model.predict(df)"
   ]
  }
 ],
 "metadata": {
  "kernelspec": {
   "display_name": "mlopsvenv",
   "language": "python",
   "name": "python3"
  },
  "language_info": {
   "codemirror_mode": {
    "name": "ipython",
    "version": 3
   },
   "file_extension": ".py",
   "mimetype": "text/x-python",
   "name": "python",
   "nbconvert_exporter": "python",
   "pygments_lexer": "ipython3",
   "version": "3.10.11"
  }
 },
 "nbformat": 4,
 "nbformat_minor": 2
}
